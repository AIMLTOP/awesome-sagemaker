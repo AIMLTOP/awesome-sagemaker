{
 "cells": [
  {
   "cell_type": "markdown",
   "id": "038d630d-b16d-4867-9446-f7370c66457b",
   "metadata": {
    "tags": []
   },
   "source": [
    "## Overview\n",
    "\n",
    "Notebook Utils\n"
   ]
  },
  {
   "cell_type": "markdown",
   "id": "a9bd52bc",
   "metadata": {},
   "source": [
    "## Aim\n",
    "\n",
    "- https://aimstack.readthedocs.io/en/latest/using/sagemaker_notebook_ui.html\n",
    "- https://github.com/aimhubio/aim/blob/1eddf0b55e5ae854e99fb93548429e2cfc8fd79c/src/python/aim/_ext/notebook/sagemaker/on-start.sh#L4"
   ]
  },
  {
   "cell_type": "code",
   "execution_count": null,
   "id": "266c0ee9",
   "metadata": {},
   "outputs": [],
   "source": [
    "%load_ext aim"
   ]
  },
  {
   "cell_type": "code",
   "execution_count": null,
   "id": "5a034543",
   "metadata": {},
   "outputs": [],
   "source": [
    "%aim up --proxy-url=https://<instance>.notebook.<region>.sagemaker.aws --port=8086"
   ]
  },
  {
   "cell_type": "markdown",
   "id": "767675b4-eeb8-4f18-a03a-c1a907f0de81",
   "metadata": {},
   "source": [
    "## Check environment"
   ]
  },
  {
   "cell_type": "code",
   "execution_count": null,
   "id": "e2b0bafd-d320-4a3a-bbc1-46e321d6d319",
   "metadata": {
    "tags": []
   },
   "outputs": [],
   "source": [
    "!echo $PATH"
   ]
  },
  {
   "cell_type": "code",
   "execution_count": null,
   "id": "b1572bac-d5bb-4e95-8de7-d64761d37232",
   "metadata": {
    "tags": []
   },
   "outputs": [],
   "source": [
    "!type python"
   ]
  },
  {
   "cell_type": "code",
   "execution_count": null,
   "id": "6ab62472-b0c5-4e29-97fd-bfe6afe01c88",
   "metadata": {
    "execution": {
     "iopub.execute_input": "2023-07-13T05:47:57.523919Z",
     "iopub.status.busy": "2023-07-13T05:47:57.523215Z",
     "iopub.status.idle": "2023-07-13T05:47:57.528798Z",
     "shell.execute_reply": "2023-07-13T05:47:57.528012Z",
     "shell.execute_reply.started": "2023-07-13T05:47:57.523891Z"
    },
    "tags": []
   },
   "outputs": [],
   "source": [
    "sys.executable"
   ]
  },
  {
   "cell_type": "code",
   "execution_count": null,
   "id": "dfe6f1e3-4659-4622-a28e-74702811028b",
   "metadata": {
    "tags": []
   },
   "outputs": [],
   "source": [
    "!type ls"
   ]
  },
  {
   "cell_type": "code",
   "execution_count": null,
   "id": "b4600ee9-2714-4ea7-a5c5-339ad0d1c0d3",
   "metadata": {
    "tags": []
   },
   "outputs": [],
   "source": [
    "!type -a python\n",
    "!type -a conda\n",
    "!type -a pip"
   ]
  },
  {
   "cell_type": "code",
   "execution_count": null,
   "id": "7b240de2-7325-4c38-a4f0-ccd7751def25",
   "metadata": {
    "tags": []
   },
   "outputs": [],
   "source": [
    "import sys\n",
    "sys.path"
   ]
  },
  {
   "cell_type": "code",
   "execution_count": null,
   "id": "b21676db-536f-49f1-9978-9689c00c8c43",
   "metadata": {
    "tags": []
   },
   "outputs": [],
   "source": [
    "import numpy\n",
    "numpy.__path__"
   ]
  },
  {
   "cell_type": "code",
   "execution_count": null,
   "id": "7890e14e-87d3-433d-b653-b12a5acc4a8a",
   "metadata": {
    "execution": {
     "iopub.execute_input": "2023-07-13T05:44:31.184074Z",
     "iopub.status.busy": "2023-07-13T05:44:31.183396Z",
     "iopub.status.idle": "2023-07-13T05:44:31.589720Z",
     "shell.execute_reply": "2023-07-13T05:44:31.588808Z",
     "shell.execute_reply.started": "2023-07-13T05:44:31.184045Z"
    },
    "tags": []
   },
   "outputs": [],
   "source": [
    "paths = !type -a python\n",
    "for path in set(paths):\n",
    "    path = path.split()[-1]\n",
    "    print(path)\n",
    "    !{path} -c \"import sys; print(sys.path)\"\n",
    "    print()"
   ]
  },
  {
   "cell_type": "code",
   "execution_count": null,
   "id": "40ed24e0-521e-4e4f-aa2c-b96e22d3a375",
   "metadata": {
    "execution": {
     "iopub.execute_input": "2023-07-13T05:45:01.653822Z",
     "iopub.status.busy": "2023-07-13T05:45:01.653494Z",
     "iopub.status.idle": "2023-07-13T05:45:03.251447Z",
     "shell.execute_reply": "2023-07-13T05:45:03.250347Z",
     "shell.execute_reply.started": "2023-07-13T05:45:01.653795Z"
    },
    "tags": []
   },
   "outputs": [],
   "source": [
    "!conda env list"
   ]
  },
  {
   "cell_type": "code",
   "execution_count": null,
   "id": "0460804c-e02b-49c0-927c-6c5b4e596529",
   "metadata": {
    "execution": {
     "iopub.execute_input": "2023-07-13T05:46:09.657722Z",
     "iopub.status.busy": "2023-07-13T05:46:09.656927Z",
     "iopub.status.idle": "2023-07-13T05:46:10.535090Z",
     "shell.execute_reply": "2023-07-13T05:46:10.534116Z",
     "shell.execute_reply.started": "2023-07-13T05:46:09.657695Z"
    },
    "tags": []
   },
   "outputs": [],
   "source": [
    "!jupyter kernelspec list"
   ]
  },
  {
   "cell_type": "code",
   "execution_count": null,
   "id": "14fcbc24-fe4e-436a-a7d2-65eac0e1a5db",
   "metadata": {
    "execution": {
     "iopub.execute_input": "2023-07-13T05:46:43.172189Z",
     "iopub.status.busy": "2023-07-13T05:46:43.171608Z",
     "iopub.status.idle": "2023-07-13T05:46:43.290093Z",
     "shell.execute_reply": "2023-07-13T05:46:43.289163Z",
     "shell.execute_reply.started": "2023-07-13T05:46:43.172162Z"
    },
    "tags": []
   },
   "outputs": [],
   "source": [
    "!cat /home/ec2-user/anaconda3/envs/Braket/share/jupyter/kernels/python3/kernel.json"
   ]
  },
  {
   "cell_type": "markdown",
   "id": "042e2b15-632a-48ce-b745-593bb95a93a9",
   "metadata": {},
   "source": [
    "## Install packages\n",
    "\n",
    "- https://repost.aws/knowledge-center/sagemaker-python-package-conda"
   ]
  },
  {
   "cell_type": "code",
   "execution_count": null,
   "id": "6e7a5f9a-4770-4f5d-9318-e6ff0cb5867c",
   "metadata": {
    "tags": []
   },
   "outputs": [],
   "source": [
    "%%bash\n",
    "curl -o- https://raw.githubusercontent.com/nvm-sh/nvm/v0.39.3/install.sh | bash\n",
    ". ~/.nvm/nvm.sh\n",
    "nvm install 16"
   ]
  },
  {
   "cell_type": "code",
   "execution_count": null,
   "id": "a01287dd-f44e-423c-bb48-3cd294617d2b",
   "metadata": {
    "tags": []
   },
   "outputs": [],
   "source": [
    "# install the AWS CDK Toolkit globally using npm and check the installation by calling the cdk command to fetch the version.\n",
    "!python -m pip install aws-cdk-lib"
   ]
  },
  {
   "cell_type": "code",
   "execution_count": null,
   "id": "e4ec75ae-384d-4274-b34e-df5286acf510",
   "metadata": {
    "tags": []
   },
   "outputs": [],
   "source": [
    "import os\n",
    "\n",
    "node_path =\"/home/ec2-user/.nvm/versions/node/v16.20.1/bin/\" \n",
    "\n",
    "os.environ[\"PATH\"] += os.pathsep + node_path"
   ]
  },
  {
   "cell_type": "code",
   "execution_count": null,
   "id": "abb02327-5c91-4b37-98a0-2c85c92b150d",
   "metadata": {
    "tags": []
   },
   "outputs": [],
   "source": [
    "!sudo npm install -g aws-cdk"
   ]
  },
  {
   "cell_type": "code",
   "execution_count": null,
   "id": "80689b79-65b3-448b-a1b6-d0ec605bf6ef",
   "metadata": {
    "execution": {
     "iopub.execute_input": "2023-07-13T05:42:35.972515Z",
     "iopub.status.busy": "2023-07-13T05:42:35.971913Z",
     "iopub.status.idle": "2023-07-13T05:42:36.872262Z",
     "shell.execute_reply": "2023-07-13T05:42:36.871221Z",
     "shell.execute_reply.started": "2023-07-13T05:42:35.972487Z"
    },
    "tags": []
   },
   "outputs": [],
   "source": [
    "!cdk --version"
   ]
  },
  {
   "cell_type": "code",
   "execution_count": null,
   "id": "59303c42-ba54-4e33-b27b-675a237b4d80",
   "metadata": {
    "tags": []
   },
   "outputs": [],
   "source": [
    "%%bash\n",
    "cd ..\n",
    "pip install -r requirements.txt"
   ]
  },
  {
   "cell_type": "code",
   "execution_count": null,
   "id": "93e4bf53-a7a5-401b-8cba-71708e0021fc",
   "metadata": {
    "tags": []
   },
   "outputs": [],
   "source": [
    "%%bash\n",
    "cd ..\n",
    "cdk synth"
   ]
  },
  {
   "cell_type": "code",
   "execution_count": null,
   "id": "be30478d-ce07-44a6-b244-7b431fbb10cc",
   "metadata": {
    "tags": []
   },
   "outputs": [],
   "source": [
    "%%bash\n",
    "cd ..\n",
    "cdk bootstrap"
   ]
  },
  {
   "cell_type": "code",
   "execution_count": null,
   "id": "c9699f89-fc0a-4136-89a4-b3345f0e6ae3",
   "metadata": {
    "tags": []
   },
   "outputs": [],
   "source": [
    "%%bash\n",
    "cd ..\n",
    "cdk deploy --all --require-approval never"
   ]
  },
  {
   "cell_type": "markdown",
   "id": "0966274a-b3a5-4246-a609-fb45e103c27b",
   "metadata": {},
   "source": [
    "## AWS CLI\n"
   ]
  },
  {
   "cell_type": "code",
   "execution_count": null,
   "id": "4611a9e8-008c-407b-bded-982e7d98187d",
   "metadata": {
    "execution": {
     "iopub.execute_input": "2023-07-13T05:44:00.324048Z",
     "iopub.status.busy": "2023-07-13T05:44:00.323394Z",
     "iopub.status.idle": "2023-07-13T05:44:01.013414Z",
     "shell.execute_reply": "2023-07-13T05:44:01.012431Z",
     "shell.execute_reply.started": "2023-07-13T05:44:00.324018Z"
    },
    "tags": []
   },
   "outputs": [],
   "source": [
    "!aws cloudfront list-distributions"
   ]
  },
  {
   "cell_type": "markdown",
   "id": "8d993230-a9e6-4878-abf9-cd7195ae18b9",
   "metadata": {},
   "source": [
    "## SSH\n",
    "\n",
    "Amazon SageMaker Notebook Instance + SSH + IDE Integration\n",
    "- https://github.com/aws-samples/sagemaker-ssh-helper\n",
    "- https://aws.amazon.com/cn/blogs/china/take-you-ssh-to-amazon-sagemaker-training-example-to-find-out/"
   ]
  },
  {
   "cell_type": "markdown",
   "id": "dc291ec9",
   "metadata": {},
   "source": [
    "### 权限配置\n",
    "\n",
    "- https://github.com/aws-samples/sagemaker-ssh-helper/blob/main/IAM_SSM_Setup.md\n",
    "- https://docs.aws.amazon.com/zh_cn/systems-manager/latest/userguide/systems-manager-managedinstances-advanced.html#systems-manager-managedinstances-advanced-enabling\n",
    "\n",
    "注意配置角色的信任关系\n",
    "\n",
    "```json\n",
    "{\n",
    "    \"Effect\": \"Allow\",\n",
    "    \"Principal\": {\n",
    "        \"Service\": \"ssm.amazonaws.com\"\n",
    "    },\n",
    "    \"Action\": \"sts:AssumeRole\"\n",
    "}\n",
    "```\n"
   ]
  },
  {
   "cell_type": "code",
   "execution_count": null,
   "id": "50aa48dc",
   "metadata": {},
   "outputs": [],
   "source": [
    "%%sh\n",
    "pip uninstall -y -q awscli\n",
    "pip install q -U sagemaker-ssh-helper\n",
    "pip freeze | grep sagemaker-ssh-helper"
   ]
  },
  {
   "cell_type": "code",
   "execution_count": null,
   "id": "67b613c9",
   "metadata": {},
   "outputs": [],
   "source": [
    "from sagemaker_ssh_helper.wrapper import SSHEstimatorWrapper\n",
    "from sagemaker.pytorch import PyTorch\n",
    "import sagemaker\n",
    "import logging\n",
    "import os"
   ]
  },
  {
   "cell_type": "code",
   "execution_count": null,
   "id": "74da3514",
   "metadata": {},
   "outputs": [],
   "source": [
    "logging.basicConfig(level=logging.INFO)"
   ]
  },
  {
   "cell_type": "code",
   "execution_count": null,
   "id": "97b0e3e1",
   "metadata": {},
   "outputs": [],
   "source": [
    "!mkdir -p ssh_notebook/"
   ]
  },
  {
   "cell_type": "code",
   "execution_count": null,
   "id": "361bcfcf",
   "metadata": {},
   "outputs": [],
   "source": [
    "%%writefile ssh_notebook/ssh_notebook.py\n",
    "\n",
    "import time\n",
    "import os\n",
    "\n",
    "import sagemaker_ssh_helper\n",
    "sagemaker_ssh_helper.setup_and_start_ssh()\n",
    "\n",
    "while os.environ.get(\"START_SSH\", \"false\") == \"true\":\n",
    "    time.sleep(10)  # will sleep forever"
   ]
  },
  {
   "cell_type": "markdown",
   "id": "2706c439",
   "metadata": {},
   "source": [
    "In the next cell you need to put your **local** user id. It will help to tag the managed instance with your id as the owner. You can find the id by running `aws sts get-caller-identity` command on your local machine. The value will be returned as `UserId`."
   ]
  },
  {
   "cell_type": "code",
   "execution_count": null,
   "id": "3ff1f43d",
   "metadata": {},
   "outputs": [],
   "source": [
    "!rm -fr ~/.sm-ssh-owner"
   ]
  },
  {
   "cell_type": "code",
   "execution_count": null,
   "id": "9873f081",
   "metadata": {},
   "outputs": [],
   "source": [
    "%%sh\n",
    "# LOCAL_USER_ID=\"AIDACKCEVSQ6C2EXAMPLE\"  # replace with your local UserId ( IAM user AK)\n",
    "\n",
    "if [ -f ~/.sm-ssh-owner ]; then\n",
    "    echo \"sm-ssh-notebook: SSH owner user ID is already set in ~/.sm-ssh-owner, skipping override\"\n",
    "else\n",
    "    echo \"sm-ssh-notebook: Saving SSH owner user ID into ~/.sm-ssh-owner\"\n",
    "    echo \"$LOCAL_USER_ID\" > ~/.sm-ssh-owner\n",
    "fi"
   ]
  },
  {
   "cell_type": "code",
   "execution_count": null,
   "id": "0d45e874",
   "metadata": {},
   "outputs": [],
   "source": [
    "with open(os.path.expanduser('~/.sm-ssh-owner')) as f:\n",
    "    local_user_id = f.readline().rstrip()"
   ]
  },
  {
   "cell_type": "markdown",
   "id": "82585473",
   "metadata": {},
   "source": [
    "Now start the estimator with SSH wrapper. It will connect to the SSM and start SSH server inside the container.\n",
    "\n",
    "Keep the cell running.\n",
    "\n",
    "On the local machne, open the SSH tunnel to the notebook with `sm-local-ssh-notebook connect <<<notebook-instance-name>>`.\n",
    "\n",
    "The estimator will mirror the current notebook directory to `/opt/ml/input/data/notebook` inside the container. You can use it to configure the mappings in your local IDE, so that your local files are synchronized with notebook instance files. See [the instructions for PyCharm](https://www.jetbrains.com/help/pycharm/deployment-mappings-tab.html), as an example."
   ]
  },
  {
   "cell_type": "code",
   "execution_count": null,
   "id": "eaaa20e0",
   "metadata": {},
   "outputs": [],
   "source": [
    "estimator = PyTorch(entry_point='ssh_notebook.py',\n",
    "                    source_dir='ssh_notebook/',\n",
    "                    dependencies=[SSHEstimatorWrapper.dependency_dir()],\n",
    "                    base_job_name='ssh-notebook',\n",
    "                    role=sagemaker.get_execution_role(),\n",
    "                    framework_version='1.9.1',\n",
    "                    py_version='py38',\n",
    "                    instance_count=1,\n",
    "                    instance_type='local',\n",
    "                    # instance_type='ml.m5.xlarge',\n",
    "                    container_log_level=logging.INFO)\n",
    "\n",
    "ssh_wrapper = SSHEstimatorWrapper.create(estimator, connection_wait_time_seconds=0, local_user_id=local_user_id, log_to_stdout=True)\n",
    "\n",
    "estimator.fit({'notebook': 'file://'})"
   ]
  },
  {
   "cell_type": "code",
   "execution_count": null,
   "id": "3f35b6a1",
   "metadata": {},
   "outputs": [],
   "source": [
    "instance_ids = ssh_wrapper.get_instance_ids()  # <--NEW--\n",
    "\n",
    "logging.info(f\"To connect over SSM run: aws ssm start-session --target {instance_ids[0]}\")\n",
    "logging.info(f\"To connect over SSH run: sm-local-ssh-training connect {ssh_wrapper.training_job_name()}\")"
   ]
  },
  {
   "cell_type": "markdown",
   "id": "16256a6c",
   "metadata": {},
   "source": [
    "At your local laptop:\n",
    "```shell\n",
    "pip install sagemaker-ssh-helper\n",
    "```"
   ]
  },
  {
   "cell_type": "markdown",
   "id": "3a50e41f",
   "metadata": {},
   "source": [
    "Alternatively, if you want to work on a different instance type, submit the training job to SageMaker cluster as described in [Remote code execution with PyCharm / VSCode over SSH](https://github.com/aws-samples/sagemaker-ssh-helper#remote-interpreter) and use `sm-local-ssh-training` command instead of `sm-local-ssh-notebook`. "
   ]
  },
  {
   "cell_type": "markdown",
   "id": "34153531",
   "metadata": {},
   "source": [
    "\n",
    "```shell\n",
    "aws ssm start-session --target mi-xxx --profile ws\n",
    "```"
   ]
  },
  {
   "cell_type": "markdown",
   "id": "f35cbc34",
   "metadata": {},
   "source": [
    "\n",
    "ps xfaww - Show running tree of processes\n",
    "ps xfawwe - Show running tree of processes with environment variables\n",
    "ls -l /opt/ml/input/data - Show input channels\n",
    "ls -l /opt/ml/code - Show your training code\n",
    "pip freeze | less - Show all Python packages installed\n",
    "dpkg -l | less - Show all system packages installed"
   ]
  }
 ],
 "metadata": {
  "kernelspec": {
   "display_name": "conda_braket",
   "language": "python",
   "name": "conda_braket"
  },
  "language_info": {
   "codemirror_mode": {
    "name": "ipython",
    "version": 3
   },
   "file_extension": ".py",
   "mimetype": "text/x-python",
   "name": "python",
   "nbconvert_exporter": "python",
   "pygments_lexer": "ipython3",
   "version": "3.10.12"
  }
 },
 "nbformat": 4,
 "nbformat_minor": 5
}
